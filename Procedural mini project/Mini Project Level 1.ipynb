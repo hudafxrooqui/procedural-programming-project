{
 "cells": [
  {
   "cell_type": "markdown",
   "metadata": {},
   "source": [
    "# Mini Project \n",
    "# Level  1\n",
    "## Huda Farooqui\n",
    "## 19/10/2021\n",
    "## Version 1\n"
   ]
  },
  {
   "cell_type": "markdown",
   "metadata": {},
   "source": [
    "## Summary of the Question \n",
    "\n",
    "Write a chat bot procedural program that can have realistic conversations with people about a specific topic ( for example, football, food etc)"
   ]
  },
  {
   "cell_type": "markdown",
   "metadata": {},
   "source": [
    "## The literate program development\n"
   ]
  },
  {
   "cell_type": "markdown",
   "metadata": {},
   "source": [
    "### sayHello\n",
    "\n",
    "#### What it does\n",
    "- This method outputs a message introduing themselves and asking the user how they are.\n",
    "\n",
    "#### Implementation (how it works)\n",
    "- The line \"System.out.println\" prints a message, there is no return value here."
   ]
  },
  {
   "cell_type": "code",
   "execution_count": 1,
   "metadata": {},
   "outputs": [],
   "source": [
    "public static void sayHello () // chatbot introduces himself \n",
    "{\n",
    "    System.out.println(\"Hello! I am Huda, the most entertaining chatbot in Mile End.\");\n",
    "                   \n",
    "    return;\n",
    "}\n"
   ]
  },
  {
   "cell_type": "markdown",
   "metadata": {},
   "source": [
    "#### Testing"
   ]
  },
  {
   "cell_type": "code",
   "execution_count": 2,
   "metadata": {},
   "outputs": [
    {
     "name": "stdout",
     "output_type": "stream",
     "text": [
      "Hello! I am Huda, the most entertaining chatbot in Mile End.\n"
     ]
    }
   ],
   "source": [
    "sayHello();"
   ]
  },
  {
   "cell_type": "markdown",
   "metadata": {},
   "source": [
    "### sayHowAreYou\n",
    "\n",
    "#### What it does\n",
    "- This method asks the user to input how they are when the program outputs the message \"How are you?\".\n",
    "\n",
    "#### Implementation (how it works)\n",
    "- The line \"scanner.nextLine\" allows the user to input an answer when the programs asks the question. I have declared the variable \"howareyou\" to print the answer that the user has inputted to the next line. The command \"System.out.println\" outputs messages."
   ]
  },
  {
   "cell_type": "code",
   "execution_count": 4,
   "metadata": {},
   "outputs": [],
   "source": [
    "public static void sayHowAreYou () // chatbot asks user how they are\n",
    "{\n",
    "    String howareyou; // declares variable \n",
    "    Scanner scanner = new Scanner(System.in);\n",
    "    \n",
    "    System.out.println(\"How are you?\"); // prints how are you\n",
    "    howareyou = scanner.nextLine(); // asks the user to input an answer \n",
    "    \n",
    "    System.out.println(\"It was nice to meet you! But I have to go, bye for now!\"); // goodbye message\n",
    "    \n",
    "    return;\n",
    "}\n"
   ]
  },
  {
   "cell_type": "markdown",
   "metadata": {},
   "source": [
    "### Testing"
   ]
  },
  {
   "cell_type": "code",
   "execution_count": 5,
   "metadata": {},
   "outputs": [
    {
     "name": "stdout",
     "output_type": "stream",
     "text": [
      "How are you?\n"
     ]
    },
    {
     "name": "stdin",
     "output_type": "stream",
     "text": [
      " I'm good!\n"
     ]
    },
    {
     "name": "stdout",
     "output_type": "stream",
     "text": [
      "It was nice to meet you! But I have to go, bye for now!\n"
     ]
    }
   ],
   "source": [
    "sayHowAreYou();"
   ]
  },
  {
   "cell_type": "markdown",
   "metadata": {},
   "source": [
    "### chatbotHuda\n",
    "\n",
    "#### What it does\n",
    "- This method will introduce itself, print a message asking the user how they are and asking the user to input their answer. Regardless of the user's inputted answer, the program will print \"It is nice to meet you! But I have to go, bye for now!\"\n",
    "\n",
    "\n",
    "#### Implementation (how it works)\n",
    "- This method works by calling the first two methods. \n"
   ]
  },
  {
   "cell_type": "code",
   "execution_count": 7,
   "metadata": {},
   "outputs": [
    {
     "name": "stdout",
     "output_type": "stream",
     "text": [
      "Hello! I am Huda, the most entertaining chatbot in Mile End.\n",
      "How are you?\n"
     ]
    },
    {
     "name": "stdin",
     "output_type": "stream",
     "text": [
      " I'm good\n"
     ]
    },
    {
     "name": "stdout",
     "output_type": "stream",
     "text": [
      "It was nice to meet you! But I have to go, bye for now!\n"
     ]
    }
   ],
   "source": [
    "public static void chatbotHuda()\n",
    "{\n",
    "    sayHello();\n",
    "    sayHowAreYou();\n",
    "    return;\n",
    "}\n",
    "\n",
    "chatbotHuda();\n"
   ]
  },
  {
   "cell_type": "markdown",
   "metadata": {},
   "source": [
    "#### Testing"
   ]
  },
  {
   "cell_type": "code",
   "execution_count": 8,
   "metadata": {},
   "outputs": [
    {
     "name": "stdout",
     "output_type": "stream",
     "text": [
      "Hello! I am Huda, the most entertaining chatbot in Mile End.\n",
      "How are you?\n"
     ]
    },
    {
     "name": "stdin",
     "output_type": "stream",
     "text": [
      " I'm good\n"
     ]
    },
    {
     "name": "stdout",
     "output_type": "stream",
     "text": [
      "It was nice to meet you! But I have to go, bye for now!\n"
     ]
    }
   ],
   "source": [
    "chatbotHuda();"
   ]
  },
  {
   "cell_type": "markdown",
   "metadata": {},
   "source": [
    "### Running the program\n",
    "Run the following call to simulate running the complete program."
   ]
  },
  {
   "cell_type": "code",
   "execution_count": null,
   "metadata": {},
   "outputs": [],
   "source": [
    "chatbotHuda();"
   ]
  },
  {
   "cell_type": "markdown",
   "metadata": {},
   "source": [
    "## The complete program\n",
    "This version will only compile here. To run it copy it into a file called initials.java on your local computer and compile and run it there."
   ]
  },
  {
   "cell_type": "code",
   "execution_count": null,
   "metadata": {},
   "outputs": [],
   "source": [
    "// Name-Huda Farooqui \n",
    "// Date-19th October 2021\n",
    "// Version 1 \n",
    "// Write a chatbot \n",
    "\n",
    "import java.util.Scanner; // Needed to make Scanner available\n",
    "\n",
    "class name // change the name to something appropriate\n",
    "{\n",
    "    public static void main (String [] a)\n",
    "    {\n",
    "        chatbotHuda (); //Change this to a call to the method doing the work\n",
    "        System.exit(0);\n",
    "    }\n",
    "    \n",
    "   // Add all methods the program uses here\n",
    "}\n",
    "\n",
    "public static void sayHello () // chatbot introduces himself \n",
    "{\n",
    "    System.out.println(\"Hello! I am Huda the chatbot.\");\n",
    "                   \n",
    "    return;\n",
    "}\n",
    "\n",
    "\n",
    "public static void question1 () // chatbot asks user how they are\n",
    "{\n",
    "    String howareyou; // declares variable \n",
    "    Scanner scanner = new Scanner(System.in);\n",
    "    \n",
    "    System.out.println(\"How are you?\"); // prints how are you\n",
    "    howareyou = scanner.nextLine(); // asks the user to input an answer \n",
    "    \n",
    "    System.out.println(\"It is nice to meet you! But I have to go, bye for now!\"); // goodbye message\n",
    "    \n",
    "    return;\n",
    "}\n",
    "\n",
    "\n",
    "public static void chatbotHuda()\n",
    "{\n",
    "    sayHello();\n",
    "    question1();\n",
    "    return;\n",
    "}\n",
    "\n",
    "chatbotHuda();\n",
    "\n",
    "\n",
    "\n"
   ]
  },
  {
   "cell_type": "markdown",
   "metadata": {},
   "source": [
    "**END OF LITERATE DOCUMENT**"
   ]
  }
 ],
 "metadata": {
  "kernelspec": {
   "display_name": "Java",
   "language": "java",
   "name": "java"
  },
  "language_info": {
   "codemirror_mode": "java",
   "file_extension": ".jshell",
   "mimetype": "text/x-java-source",
   "name": "Java",
   "pygments_lexer": "java",
   "version": "11.0.8+10-LTS"
  }
 },
 "nbformat": 4,
 "nbformat_minor": 4
}
