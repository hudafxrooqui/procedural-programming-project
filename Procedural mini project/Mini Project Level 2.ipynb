{
 "cells": [
  {
   "cell_type": "markdown",
   "metadata": {},
   "source": [
    "# Mini Project\n",
    "# Level 2\n",
    "## Huda Farooqui\n",
    "## 23/11/2021\n",
    "## Version 1\n"
   ]
  },
  {
   "cell_type": "markdown",
   "metadata": {},
   "source": [
    "## Summary of the Question \n",
    "\n",
    "Write a chat bot procedural program that can have realistic conversations with people about a specific topic ( for example, football, food etc)"
   ]
  },
  {
   "cell_type": "markdown",
   "metadata": {},
   "source": [
    "## The literate program development\n"
   ]
  },
  {
   "cell_type": "markdown",
   "metadata": {},
   "source": [
    "### **inputString**\n",
    "\n",
    "#### What it does\n",
    "-  inputString is a method that allows the user to input data.\n",
    "\n",
    "#### Implementation (how it works)\n",
    "- A scanner is used to get a user input.String answer is declared at the start of the program. Whatever the user inputs will be printed on the next line, this is from the command **scanner.nextLine**. The variable answer is returned, meaning that the method inputString can be called in the next method. "
   ]
  },
  {
   "cell_type": "code",
   "execution_count": 3,
   "metadata": {},
   "outputs": [],
   "source": [
    "public static String inputString (String message)\n",
    "{\n",
    "       String answer;\n",
    "       Scanner scanner = new Scanner(System.in); //scanner to input message\n",
    "\n",
    "       System.out.println(message);\n",
    "       answer = scanner.nextLine();\n",
    "   \n",
    "       return answer;\n",
    "}"
   ]
  },
  {
   "cell_type": "markdown",
   "metadata": {},
   "source": [
    "### Testing (this method cannot be tested)"
   ]
  },
  {
   "cell_type": "code",
   "execution_count": null,
   "metadata": {},
   "outputs": [],
   "source": [
    "inputString();"
   ]
  },
  {
   "cell_type": "markdown",
   "metadata": {},
   "source": [
    "### **askQuestion1**\n",
    "\n",
    "#### What it does\n",
    "- This method talks about what movie the chatbot is most excited to watch, and asks the user to input the name of a movie they are excited to watch. The inputs are printed with a comment about each one, and variable movie1 is returned. \n",
    "\n",
    "#### Implementation (how it works)\n",
    "- inputString is a method that allows the user to input an answer by using a scanner.This method is called in askQuestion1. The string variables movie1 and movie2 have been declared at the beginning of the method askQuestion1.The program outputs a statement and asks the user to input an answer. The variable movie1 and movie2 are concantenated with some statements, and the variable movie1 is returned so that it can be used in the net method."
   ]
  },
  {
   "cell_type": "code",
   "execution_count": 4,
   "metadata": {},
   "outputs": [],
   "source": [
    "public static String askQuestion1 ()\n",
    "{\n",
    "    String movie1; // declares movie1 variable\n",
    "    String movie2; // declares movie2 variable\n",
    "    \n",
    "    System.out.println(\"I'm excited to watch the new Spiderman movie that's releasing on Friday!\"); //chatbot prints a statement\n",
    "    movie1=inputString(\"What movie are you most excited to watch?\"); //asks the user to input an answer that will be stored in variable movie1\n",
    "    \n",
    "    System.out.println(\"Wow \" +movie1+ \" sounds quite interesting\"); //string concatenation \n",
    "    movie2=inputString(\"What's the worst movie you have watched?\"); //asks the user to input an answer that will be stored in variable movie2\n",
    "    \n",
    "    System.out.println(\"Oh, I dont like \" +movie2+ \" either\"); //string concatenation\n",
    "    \n",
    "    return movie1; // returns movie1 \n",
    "}\n"
   ]
  },
  {
   "cell_type": "markdown",
   "metadata": {},
   "source": [
    "### Testing "
   ]
  },
  {
   "cell_type": "code",
   "execution_count": 5,
   "metadata": {},
   "outputs": [
    {
     "name": "stdout",
     "output_type": "stream",
     "text": [
      "I'm excited to watch the new Spiderman movie that's releasing on Friday!\n",
      "What movie are you most excited to watch?\n"
     ]
    },
    {
     "name": "stdin",
     "output_type": "stream",
     "text": [
      " Spiderman\n"
     ]
    },
    {
     "name": "stdout",
     "output_type": "stream",
     "text": [
      "Wow Spiderman sounds quite interesting\n",
      "What's the worst movie you have watched?\n"
     ]
    },
    {
     "name": "stdin",
     "output_type": "stream",
     "text": [
      " Batman 2\n"
     ]
    },
    {
     "name": "stdout",
     "output_type": "stream",
     "text": [
      "Oh, I dont like Batman 2 either\n"
     ]
    },
    {
     "data": {
      "text/plain": [
       "Spiderman"
      ]
     },
     "execution_count": 5,
     "metadata": {},
     "output_type": "execute_result"
    }
   ],
   "source": [
    "askQuestion1();"
   ]
  },
  {
   "cell_type": "markdown",
   "metadata": {},
   "source": [
    "### **askQuestion2**\n",
    "\n",
    "#### What it does\n",
    "- The method askQuestion2 takes the return value from the previous method (askQuestion1) and outputs this with two strings concatenated. The program outputs a statement and returns the variable movie3, which is the same as movie1. THis means the users input can be used in the next method, however, instead of calling movie1, I would call movie3. \n",
    "\n",
    "#### Implementation (how it works)\n",
    "- When calling the method, I have called askQUestion1 within the method askQuestion2 so that the value from movie1 can be found and outputted from the previous method. This is because movie1 is a local variable. \n"
   ]
  },
  {
   "cell_type": "code",
   "execution_count": 6,
   "metadata": {
    "tags": []
   },
   "outputs": [],
   "source": [
    "public static String askQuestion2 (String movie1)\n",
    "{\n",
    "    String movie3 = movie1; \n",
    "\n",
    "    System.out.println(\"Actually, I'm gonna be watching \" +movie1+ \" on Saturday\"); //takes the value of movie1 from previous method and outputs it\n",
    "    System.out.println(\"Would you like to come?\");\n",
    "    \n",
    "    return movie3; // returns movie3\n",
    "     \n",
    "}"
   ]
  },
  {
   "cell_type": "markdown",
   "metadata": {
    "tags": []
   },
   "source": [
    "### Testing"
   ]
  },
  {
   "cell_type": "code",
   "execution_count": 8,
   "metadata": {
    "tags": []
   },
   "outputs": [
    {
     "name": "stdout",
     "output_type": "stream",
     "text": [
      "I'm excited to watch the new Spiderman movie that's releasing on Friday!\n",
      "What movie are you most excited to watch?\n"
     ]
    },
    {
     "name": "stdin",
     "output_type": "stream",
     "text": [
      " Spiderman\n"
     ]
    },
    {
     "name": "stdout",
     "output_type": "stream",
     "text": [
      "Wow Spiderman sounds quite interesting\n",
      "What's the worst movie you have watched?\n"
     ]
    },
    {
     "name": "stdin",
     "output_type": "stream",
     "text": [
      " Banana man\n"
     ]
    },
    {
     "name": "stdout",
     "output_type": "stream",
     "text": [
      "Oh, I dont like Banana man either\n",
      "Actually, I'm gonna be watching Spiderman on Saturday\n",
      "Would you like to come?\n"
     ]
    },
    {
     "data": {
      "text/plain": [
       "Spiderman"
      ]
     },
     "execution_count": 8,
     "metadata": {},
     "output_type": "execute_result"
    }
   ],
   "source": [
    "// testing method askQuestion1 and askQuestion2\n",
    "\n",
    "askQuestion2(askQuestion1())"
   ]
  },
  {
   "cell_type": "markdown",
   "metadata": {},
   "source": [
    "### **SayGoodbye**\n",
    "\n",
    "#### What it does\n",
    "- This method outputs a goodbye message.\n",
    "\n",
    "#### Implementation (how it works)\n",
    "- The command \"System.out.println\" is used for to print the message. \n"
   ]
  },
  {
   "cell_type": "code",
   "execution_count": 10,
   "metadata": {},
   "outputs": [
    {
     "name": "stdout",
     "output_type": "stream",
     "text": [
      "Great! I'll send you the details, bye for now!\n",
      "The tickets are £6 each we need 2 tickets\n",
      "That will cost £12\n"
     ]
    }
   ],
   "source": [
    "public static void sayGoodbye() \n",
    "{\n",
    "    int ticket = 6;\n",
    "    int total = ticket*2;\n",
    "    \n",
    "    System.out.println(\"Great! I'll send you the details, bye for now!\"); //goodbye message\n",
    "    System.out.println(\"The tickets are £\" +ticket+ \" each we need 2 tickets\");\n",
    "    System.out.println(\"That will cost £\" +total);\n",
    "    \n",
    "    return;\n",
    "    \n",
    "}\n",
    " \n",
    "sayGoodbye();"
   ]
  },
  {
   "cell_type": "markdown",
   "metadata": {},
   "source": [
    "### Testing"
   ]
  },
  {
   "cell_type": "code",
   "execution_count": 11,
   "metadata": {},
   "outputs": [
    {
     "name": "stdout",
     "output_type": "stream",
     "text": [
      "Great! I'll send you the details, bye for now!\n",
      "The tickets are £6 each we need 2 tickets\n",
      "That will cost £12\n"
     ]
    }
   ],
   "source": [
    "sayGoodbye();"
   ]
  },
  {
   "cell_type": "markdown",
   "metadata": {},
   "source": [
    "### chatBotHuda\n",
    "\n",
    "#### What it does\n",
    "- This method calls all of the previous methods together.\n",
    "\n",
    "#### Implementation (how it works)\n",
    "- This method first calls the method askQuestion1, then askQuestion2 and then sayGoodbye.\n"
   ]
  },
  {
   "cell_type": "code",
   "execution_count": 12,
   "metadata": {},
   "outputs": [
    {
     "name": "stdout",
     "output_type": "stream",
     "text": [
      "I'm excited to watch the new Spiderman movie that's releasing on Friday!\n",
      "What movie are you most excited to watch?\n"
     ]
    },
    {
     "name": "stdin",
     "output_type": "stream",
     "text": [
      " Spiderman\n"
     ]
    },
    {
     "name": "stdout",
     "output_type": "stream",
     "text": [
      "Wow Spiderman sounds quite interesting\n",
      "What's the worst movie you have watched?\n"
     ]
    },
    {
     "name": "stdin",
     "output_type": "stream",
     "text": [
      " Batman\n"
     ]
    },
    {
     "name": "stdout",
     "output_type": "stream",
     "text": [
      "Oh, I dont like Batman either\n",
      "Actually, I'm gonna be watching Spiderman on Saturday\n",
      "Would you like to come?\n",
      "Great! I'll send you the details, bye for now!\n",
      "The tickets are £6 each we need 2 tickets\n",
      "That will cost £12\n"
     ]
    }
   ],
   "source": [
    "public static void chatbotHuda()\n",
    "{\n",
    "    askQuestion2(askQuestion1());\n",
    "    sayGoodbye();\n",
    "    \n",
    "    return;\n",
    "}\n",
    "\n",
    "chatbotHuda();"
   ]
  },
  {
   "cell_type": "markdown",
   "metadata": {},
   "source": [
    "### Running the program\n",
    "Run the following call to simulate running the complete program."
   ]
  },
  {
   "cell_type": "code",
   "execution_count": 13,
   "metadata": {},
   "outputs": [
    {
     "name": "stdout",
     "output_type": "stream",
     "text": [
      "I'm excited to watch the new Spiderman movie that's releasing on Friday!\n",
      "What movie are you most excited to watch?\n"
     ]
    },
    {
     "name": "stdin",
     "output_type": "stream",
     "text": [
      " Spiderman\n"
     ]
    },
    {
     "name": "stdout",
     "output_type": "stream",
     "text": [
      "Wow Spiderman sounds quite interesting\n",
      "What's the worst movie you have watched?\n"
     ]
    },
    {
     "name": "stdin",
     "output_type": "stream",
     "text": [
      " Batman\n"
     ]
    },
    {
     "name": "stdout",
     "output_type": "stream",
     "text": [
      "Oh, I dont like Batman either\n",
      "Actually, I'm gonna be watching Spiderman on Saturday\n",
      "Would you like to come?\n",
      "Great! I'll send you the details, bye for now!\n",
      "The tickets are £6 each we need 2 tickets\n",
      "That will cost £12\n"
     ]
    }
   ],
   "source": [
    "chatbotHuda();"
   ]
  },
  {
   "cell_type": "markdown",
   "metadata": {},
   "source": [
    "## The complete program\n",
    "This version will only compile here. To run it copy it into a file called initials.java on your local computer and compile and run it there."
   ]
  },
  {
   "cell_type": "code",
   "execution_count": null,
   "metadata": {},
   "outputs": [],
   "source": [
    "// NAME Huda Farooqui\n",
    "// DATE 30/11/2021\n",
    "// VERSION 1\n",
    "// Write a chat bot procedural program that can have realistic conversations with people about a specific topic ( for example, football, food etc)\n",
    "\n",
    "import java.util.Scanner; // Needed to make Scanner available\n",
    "\n",
    "class moviedate // change the name to something appropriate\n",
    "{\n",
    "    public static void main (String [] a)\n",
    "    {\n",
    "        chatbotHuda(); //Change this to a call to the method doing the work\n",
    "        System.exit(0);\n",
    "    }\n",
    "    \n",
    "  public static String inputString (String message)\n",
    "{\n",
    "       String answer;\n",
    "       Scanner scanner = new Scanner(System.in); //scanner to input message\n",
    "\n",
    "       System.out.println(message);\n",
    "       answer = scanner.nextLine();\n",
    "   \n",
    "       return answer;\n",
    "}\n",
    "\n",
    "public static String askQuestion1 ()\n",
    "{\n",
    "    String movie1; // declares movie1 variable\n",
    "    String movie2; // declares movie2 variable\n",
    "    \n",
    "    System.out.println(\"I'm excited to watch the new Spiderman movie that's releasing on Friday!\"); //chatbot prints a statement\n",
    "    movie1=inputString(\"What movie are you most excited to watch?\"); //asks the user to input an answer that will be stored in variable movie1\n",
    "    \n",
    "    System.out.println(\"Wow \" +movie1+ \" sounds quite interesting\"); //string concatenation \n",
    "    movie2=inputString(\"What's the worst movie you have watched?\"); //asks the user to input an answer that will be stored in variable movie2\n",
    "    \n",
    "    System.out.println(\"Oh, I dont like \" +movie2+ \" either\"); //string concatenation\n",
    "    \n",
    "    return movie1; // returns movie1 \n",
    "}\n",
    "\n",
    "\n",
    "public static String askQuestion2 (String movie1)\n",
    "{\n",
    "    String movie3 = movie1; \n",
    "\n",
    "    System.out.println(\"Actually, I'm gonna be watching \" +movie1+ \" on Saturday\"); //takes the value of movie1 from previous method and outputs it\n",
    "    System.out.println(\"Would you like to come?\");\n",
    "    \n",
    "    return movie3; // returns movie3\n",
    "    \n",
    "}\n",
    "\n",
    "\n",
    "askQuestion2(askQuestion1());\n",
    "\n",
    "public static void sayGoodbye() \n",
    "{\n",
    "    System.out.println(\"Great! I'll send you the details, bye for now!\"); //goodbye message\n",
    "    \n",
    "    return;\n",
    "    \n",
    "}\n",
    "\n",
    "}\n"
   ]
  },
  {
   "cell_type": "markdown",
   "metadata": {},
   "source": [
    "**END OF LITERATE DOCUMENT**"
   ]
  }
 ],
 "metadata": {
  "kernelspec": {
   "display_name": "Java",
   "language": "java",
   "name": "java"
  },
  "language_info": {
   "codemirror_mode": "java",
   "file_extension": ".jshell",
   "mimetype": "text/x-java-source",
   "name": "Java",
   "pygments_lexer": "java",
   "version": "11.0.8+10-LTS"
  }
 },
 "nbformat": 4,
 "nbformat_minor": 4
}
