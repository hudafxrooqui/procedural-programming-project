{
 "cells": [
  {
   "cell_type": "markdown",
   "metadata": {},
   "source": [
    "# Mini Project\n",
    "# Level 4\n",
    "## Huda Farooqui\n",
    "## 14th December\n",
    "## Version 1\n"
   ]
  },
  {
   "cell_type": "markdown",
   "metadata": {},
   "source": [
    "## Summary of the Question \n",
    "\n",
    "Write a chat bot procedural program that can have realistic conversations with people about a specific topic ( for example, football, food etc)"
   ]
  },
  {
   "cell_type": "markdown",
   "metadata": {},
   "source": [
    "## The literate program development\n"
   ]
  },
  {
   "cell_type": "markdown",
   "metadata": {},
   "source": [
    "### **MovieDetails class**\n",
    "\n",
    "#### What it does\n",
    "- This is a record type class that declares the records that will be used for the program\n",
    "\n",
    "#### Implementation (how it works)\n",
    "- There are 3 variables declared here which will be used, a string variable, an integer variable and a boolean variable(used for the if statement)"
   ]
  },
  {
   "cell_type": "code",
   "execution_count": 3,
   "metadata": {},
   "outputs": [],
   "source": [
    "class MovieDetails // record class\n",
    "{\n",
    "    String popcorn; // declares the variables for the record \n",
    "    int price;\n",
    "    boolean drink;\n",
    "}"
   ]
  },
  {
   "cell_type": "markdown",
   "metadata": {},
   "source": [
    "#### Testing (not tested individually)"
   ]
  },
  {
   "cell_type": "code",
   "execution_count": null,
   "metadata": {},
   "outputs": [],
   "source": [
    "MovieDetails();"
   ]
  },
  {
   "cell_type": "markdown",
   "metadata": {},
   "source": [
    "### **createMovieDetails**\n",
    "\n",
    "#### What it does\n",
    "- This method creates a variable called a as type MovieDetails. Here,I have declared variables within the type.\n",
    "\n",
    "#### Implementation (how it works)\n",
    "- new MovieDetails() creates the space to store records of this type and sets up the internal record structure with the fields as specified in the type definition"
   ]
  },
  {
   "cell_type": "code",
   "execution_count": 4,
   "metadata": {},
   "outputs": [],
   "source": [
    "public static MovieDetails createMovieDetails (String popcorn, int price, boolean drink ) // stores info for records \n",
    "{\n",
    "    MovieDetails a = new MovieDetails(); // creates variables within the type \n",
    "    a.popcorn = popcorn;\n",
    "    a.price = price;\n",
    "    a.drink = drink;\n",
    " \n",
    "    return a;\n",
    "}"
   ]
  },
  {
   "cell_type": "markdown",
   "metadata": {},
   "source": [
    "#### Testing (not tested individually)"
   ]
  },
  {
   "cell_type": "code",
   "execution_count": null,
   "metadata": {},
   "outputs": [],
   "source": [
    "createMovieDetails();"
   ]
  },
  {
   "cell_type": "markdown",
   "metadata": {},
   "source": [
    "### **printMovieDetails**\n",
    "\n",
    "#### What it does\n",
    "- This method runs an if statement for the boolean value drink. If the boolean statement is true, the if statement will run, otherwise the else statement will run.This emthod prints the price of the food package chosen and the soft drink.\n",
    "\n",
    "#### Implementation (how it works)\n",
    "- This method works by running an if statement to test the variable a.drink. System.out.println prints out all of the statements that the test is true for. \n"
   ]
  },
  {
   "cell_type": "code",
   "execution_count": 5,
   "metadata": {},
   "outputs": [],
   "source": [
    " // Print all the known details about a Attraction given a Attraction record.\n",
    "// \n",
    "public static void printMovieDetails(MovieDetails a) \n",
    "    {\n",
    "        if (a.drink = true) // if statement \n",
    "        { \n",
    "            System.out.println(a.popcorn + \" and a soft drink of your choice\");\n",
    "        }\n",
    "        else if (a.drink == false) // else statement \n",
    "        {\n",
    "            System.out.println(\"A milkshake of your choice\"); \n",
    "        }\n",
    "        System.out.println(\"Price = £\" +a.price); // prints total price \n",
    "    \n",
    "        return;\n",
    "    }"
   ]
  },
  {
   "cell_type": "markdown",
   "metadata": {},
   "source": [
    "#### Testing"
   ]
  },
  {
   "cell_type": "code",
   "execution_count": null,
   "metadata": {},
   "outputs": [],
   "source": [
    "a.drink = true;\n",
    "System.out.println(a.drink);"
   ]
  },
  {
   "cell_type": "markdown",
   "metadata": {},
   "source": [
    "### **finalInfo**\n",
    "\n",
    "#### What it does\n",
    "- This method asks the user how many snack packages they want to know about.Then, based on the number the user inputs, a for loop will begin. The for loop will ask the user to name the first package they want to know about. If there is more than one package the user wants to know about, the for loop will continue until it reaches the number the user inputted. The program outputs the relevant information on the packages.\n",
    "\n",
    "#### Implementation (how it works)\n",
    "- This method takes the user's input to determine how many loops are being done. The user's input is stored as the variable packagesNum, which represents how many packages the user wants to know about. The record details are stored and set to PackOne, PackTwo and PackThree and based on the user input the relevant information is printed. If the user inputs something that does not match to name.equals, the programs prints that there is no information about that package.\n"
   ]
  },
  {
   "cell_type": "code",
   "execution_count": 6,
   "metadata": {},
   "outputs": [],
   "source": [
    "public static void finalInfo()\n",
    "{\n",
    "    int packagesNum; // declares integer for number of loops\n",
    "    \n",
    "    Scanner scanner = new Scanner(System.in);\n",
    "    \n",
    "    System.out.println(\"Hi! I'm looking at the menu, how many food packages do you want to know about?\"); // asks user a question where they input an integer\n",
    "    \n",
    "    packagesNum = Integer.parseInt(scanner.nextLine()); // converts to int\n",
    "    \n",
    "    MovieDetails PackOne = createMovieDetails(\"Jalapenos and Cheese Nachos\", 6, true); // record details     \n",
    "    MovieDetails PackTwo = createMovieDetails(\"Sweet and Salted Popcorn topped with caramel syrup\", 9, true); // record details\n",
    "    MovieDetails PackThree = createMovieDetails(\"Dynamite Chicken Nachos with Curly Fries\", 10, false ); // record details \n",
    "    \n",
    "    String name;\n",
    "    \n",
    "    for (int i=1;i<=packagesNum;i++)\n",
    "    {\n",
    "        System.out.println(\"Name package \" +i+ \"?(Select from The Cheese Mix, Sweet and Candy Mix, and the Savoury Box!\");\n",
    "        name = scanner.nextLine();\n",
    " \n",
    "        if (name.equals(\"The Cheese Mix\")) // if statement \n",
    "        {\n",
    "            printMovieDetails(PackOne); // print first record\n",
    "        }\n",
    "        else if (name.equals(\"Sweet and Candy Mix\")) // else if statement\n",
    "        {\n",
    "            printMovieDetails(PackTwo); // prints second record\n",
    "        }\n",
    "        else if (name.equals(\"The Savoury Box\")) // else statement\n",
    "        {\n",
    "            printMovieDetails(PackThree); // prints third record\n",
    "        }\n",
    "        else \n",
    "        {\n",
    "            System.out.println(\"I have no information about that package\"); // prints statement if if and else if conditions are not met\n",
    "        }\n",
    "    }\n",
    " \n",
    "    return;\n",
    "}          "
   ]
  },
  {
   "cell_type": "markdown",
   "metadata": {},
   "source": [
    "### Testing"
   ]
  },
  {
   "cell_type": "code",
   "execution_count": 8,
   "metadata": {},
   "outputs": [
    {
     "name": "stdout",
     "output_type": "stream",
     "text": [
      "Hi! I'm looking at the menu, how many food packages do you want to know about?\n"
     ]
    },
    {
     "name": "stdin",
     "output_type": "stream",
     "text": [
      " 2\n"
     ]
    },
    {
     "name": "stdout",
     "output_type": "stream",
     "text": [
      "Name package 1?(Select from The Cheese Mix, Sweet and Candy Mix, and the Savoury Box!\n"
     ]
    },
    {
     "name": "stdin",
     "output_type": "stream",
     "text": [
      " Sweet and Candy Mix\n"
     ]
    },
    {
     "name": "stdout",
     "output_type": "stream",
     "text": [
      "Sweet and Salted Popcorn topped with caramel syrup and a soft drink of your choice\n",
      "Price = £9\n",
      "Name package 2?(Select from The Cheese Mix, Sweet and Candy Mix, and the Savoury Box!\n"
     ]
    },
    {
     "name": "stdin",
     "output_type": "stream",
     "text": [
      " Nachos\n"
     ]
    },
    {
     "name": "stdout",
     "output_type": "stream",
     "text": [
      "I have no information about that package\n"
     ]
    }
   ],
   "source": [
    "finalInfo();"
   ]
  },
  {
   "cell_type": "markdown",
   "metadata": {},
   "source": [
    "### Running the program\n",
    "Run the following call to simulate running the complete program."
   ]
  },
  {
   "cell_type": "code",
   "execution_count": 22,
   "metadata": {},
   "outputs": [
    {
     "name": "stdout",
     "output_type": "stream",
     "text": [
      "Hi! I'm looking at the menu, how many food packages do you want to know about?\n"
     ]
    },
    {
     "name": "stdin",
     "output_type": "stream",
     "text": [
      " 3\n"
     ]
    },
    {
     "name": "stdout",
     "output_type": "stream",
     "text": [
      "Name package 1?(Select from The Cheese Mix, Sweet and Candy Mix, and the Savoury Box!\n"
     ]
    },
    {
     "name": "stdin",
     "output_type": "stream",
     "text": [
      " The Cheese Mix\n"
     ]
    },
    {
     "name": "stdout",
     "output_type": "stream",
     "text": [
      "Jalapenos and Cheese Nachos and a soft drink of your choice\n",
      "Price = £6\n",
      "Name package 2?(Select from The Cheese Mix, Sweet and Candy Mix, and the Savoury Box!\n"
     ]
    },
    {
     "name": "stdin",
     "output_type": "stream",
     "text": [
      " The Savoury Box\n"
     ]
    },
    {
     "name": "stdout",
     "output_type": "stream",
     "text": [
      "Dynamite Chicken Nachos with Curly Fries and a soft drink of your choice\n",
      "Price = £10\n",
      "Name package 3?(Select from The Cheese Mix, Sweet and Candy Mix, and the Savoury Box!\n"
     ]
    },
    {
     "name": "stdin",
     "output_type": "stream",
     "text": [
      " Popcorn\n"
     ]
    },
    {
     "name": "stdout",
     "output_type": "stream",
     "text": [
      "I have no information about that package\n"
     ]
    }
   ],
   "source": [
    "finalInfo();"
   ]
  },
  {
   "cell_type": "markdown",
   "metadata": {},
   "source": [
    "## The complete program\n",
    "This version will only compile here. To run it copy it into a file called initials.java on your local computer and compile and run it there."
   ]
  },
  {
   "cell_type": "code",
   "execution_count": null,
   "metadata": {},
   "outputs": [
    {
     "name": "stdout",
     "output_type": "stream",
     "text": [
      "Hi! I'm looking at the menu, how many food packages do you want to know about?\n"
     ]
    },
    {
     "name": "stdin",
     "output_type": "stream",
     "text": [
      " 3\n"
     ]
    },
    {
     "name": "stdout",
     "output_type": "stream",
     "text": [
      "Name package 1?(Select from The Cheese Mix, Sweet and Candy Mix, and the Savoury Box!\n"
     ]
    },
    {
     "name": "stdin",
     "output_type": "stream",
     "text": [
      " huda\n"
     ]
    },
    {
     "name": "stdout",
     "output_type": "stream",
     "text": [
      "I have no information about that package\n",
      "Name package 2?(Select from The Cheese Mix, Sweet and Candy Mix, and the Savoury Box!\n"
     ]
    },
    {
     "name": "stdin",
     "output_type": "stream",
     "text": [
      " huda\n"
     ]
    },
    {
     "name": "stdout",
     "output_type": "stream",
     "text": [
      "I have no information about that package\n",
      "Name package 3?(Select from The Cheese Mix, Sweet and Candy Mix, and the Savoury Box!\n"
     ]
    },
    {
     "name": "stdin",
     "output_type": "stream",
     "text": [
      " huda\n"
     ]
    },
    {
     "name": "stdout",
     "output_type": "stream",
     "text": [
      "I have no information about that package\n"
     ]
    }
   ],
   "source": [
    "// Huda Farooqui\n",
    "// 14/12/2021\n",
    "// Version 1\n",
    "// Write a chat bot procedural program that can have realistic conversations with people about a specific topic ( for example, football, food etc)\n",
    "\n",
    "import java.util.Scanner; // Needed to make Scanner available\n",
    "\n",
    "class MovieSnacks // change the name to something appropriate\n",
    "{\n",
    "    public static void main (String [] a)\n",
    "    {\n",
    "        finalInfo(); //Change this to a call to the method doing the work\n",
    "        System.exit(0);\n",
    "    }\n",
    "    \n",
    "   \n",
    "    public static MovieDetails createMovieDetails (String popcorn, int price, boolean drink ) // stores info for records \n",
    "{\n",
    "    MovieDetails a = new MovieDetails();\n",
    "    a.popcorn = popcorn;\n",
    "    a.price = price;\n",
    "    a.drink = drink;\n",
    " \n",
    "    return a;\n",
    "}\n",
    "     // Print all the known details about a Attraction given a Attraction record.\n",
    "\n",
    "public static void printMovieDetails(MovieDetails a)\n",
    "    {\n",
    "        if (a.drink = true)\n",
    "        { \n",
    "            System.out.println(a.popcorn + \" and a soft drink of your choice\");\n",
    "        }\n",
    "        else if (a.drink == false)\n",
    "        {\n",
    "            System.out.println(\"A milkshake of your choice\");\n",
    "        }\n",
    "        System.out.println(\"Price = £\" +a.price);\n",
    "    \n",
    "        return;\n",
    "    }\n",
    "    \n",
    "    public static void finalInfo()\n",
    "{\n",
    "    int packagesNum; // declares integer for number of loops\n",
    "    \n",
    "    Scanner scanner = new Scanner(System.in);\n",
    "    \n",
    "    System.out.println(\"Hi! I'm looking at the menu, how many food packages do you want to know about?\"); // asks user a question where they input an integer\n",
    "    \n",
    "    packagesNum = Integer.parseInt(scanner.nextLine()); // converts to int\n",
    "    \n",
    "    MovieDetails PackOne = createMovieDetails(\"Jalapenos and Cheese Nachos\", 6, true); // record details     \n",
    "    MovieDetails PackTwo = createMovieDetails(\"Sweet and Salted Popcorn topped with caramel syrup\", 9, true); // record details\n",
    "    MovieDetails PackThree = createMovieDetails(\"Dynamite Chicken Nachos with Curly Fries\", 10, false ); // record details \n",
    "    \n",
    "    String name;\n",
    "    \n",
    "    for (int i=1;i<=packagesNum;i++)\n",
    "    {\n",
    "        System.out.println(\"Name package \" +i+ \"?(Select from The Cheese Mix, Sweet and Candy Mix, and the Savoury Box!\");\n",
    "        name = scanner.nextLine();\n",
    " \n",
    "        if (name.equals(\"The Cheese Mix\")) // if statement \n",
    "        {\n",
    "            printMovieDetails(PackOne); // print first record\n",
    "        }\n",
    "        else if (name.equals(\"Sweet and Candy Mix\")) // else if statement\n",
    "        {\n",
    "            printMovieDetails(PackTwo); // prints second record\n",
    "        }\n",
    "        else if (name.equals(\"The Savoury Box\")) // else statement\n",
    "        {\n",
    "            printMovieDetails(PackThree); // prints third record\n",
    "        }\n",
    "        else \n",
    "        {\n",
    "            System.out.println(\"I have no information about that package\"); // prints statement if if and else if conditions are not met\n",
    "        }\n",
    "    }\n",
    " \n",
    "    return;\n",
    "}              \n",
    "    \n",
    "}\n",
    "\n",
    "\n",
    "class MovieDetails // record class\n",
    "{\n",
    "    String popcorn; // declares the variables \n",
    "    int price;\n",
    "    boolean drink;\n",
    "}\n",
    "MovieSnacks.main(null);"
   ]
  },
  {
   "cell_type": "markdown",
   "metadata": {},
   "source": [
    "**END OF LITERATE DOCUMENT**"
   ]
  }
 ],
 "metadata": {
  "kernelspec": {
   "display_name": "Java",
   "language": "java",
   "name": "java"
  },
  "language_info": {
   "codemirror_mode": "java",
   "file_extension": ".jshell",
   "mimetype": "text/x-java-source",
   "name": "Java",
   "pygments_lexer": "java",
   "version": "11.0.8+10-LTS"
  }
 },
 "nbformat": 4,
 "nbformat_minor": 4
}
