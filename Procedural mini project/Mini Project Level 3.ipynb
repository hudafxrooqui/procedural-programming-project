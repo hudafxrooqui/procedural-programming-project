{
 "cells": [
  {
   "cell_type": "markdown",
   "metadata": {},
   "source": [
    "# Mini Project\n",
    "# Level 3\n",
    "## Huda Farooqui\n",
    "## 08/12/2021\n",
    "## Version 1 \n"
   ]
  },
  {
   "cell_type": "markdown",
   "metadata": {},
   "source": [
    "## Summary of the Question \n",
    "\n",
    "\n",
    "Write a chat bot procedural program that can have realistic conversations with people about a specific topic ( for example, football, food etc)"
   ]
  },
  {
   "cell_type": "markdown",
   "metadata": {},
   "source": [
    "## The literate program development\n"
   ]
  },
  {
   "cell_type": "markdown",
   "metadata": {},
   "source": [
    "### inputString\n",
    "\n",
    "#### What it does\n",
    "- inputString is a method that allows the user to input data.\n",
    "\n",
    "#### Implementation (how it works)\n",
    "- A scanner is used to get a user input.String answer is declared at the start of the program. Whatever the user inputs will be printed on the next line, this is from the command **scanner.nextLine**. The variable answer is returned, meaning that the method inputString can be called in the next method. "
   ]
  },
  {
   "cell_type": "code",
   "execution_count": 1,
   "metadata": {},
   "outputs": [],
   "source": [
    "public static String inputString (String message)\n",
    "{\n",
    "       String answer;\n",
    "       Scanner scanner = new Scanner(System.in); //scanner to input message\n",
    "\n",
    "       System.out.println(message);\n",
    "       answer = scanner.nextLine();\n",
    "   \n",
    "       return answer;\n",
    "}"
   ]
  },
  {
   "cell_type": "markdown",
   "metadata": {},
   "source": [
    "#### Testing"
   ]
  },
  {
   "cell_type": "code",
   "execution_count": null,
   "metadata": {},
   "outputs": [],
   "source": [
    "inputString();"
   ]
  },
  {
   "cell_type": "markdown",
   "metadata": {},
   "source": [
    "### askQuestion3\n",
    "\n",
    "#### What it does\n",
    "- This method asks the user to enter either Yes or No to a question.An if statement will run a test, if the user inputs yes, the if statement will be run and the statement will be printed. If the user inputs no, the else statement will be run and printed.\n",
    "#### Implementation (how it works)\n",
    "- Two final variables are declared at the start of the program.They are used to compare the user's input with the input that is expected. The command System.out.println prints the statement based on whether the if or else statement is run."
   ]
  },
  {
   "cell_type": "code",
   "execution_count": 2,
   "metadata": {},
   "outputs": [
    {
     "name": "stdout",
     "output_type": "stream",
     "text": [
      "Would you like to come?(Enter Yes or No)\n"
     ]
    },
    {
     "name": "stdin",
     "output_type": "stream",
     "text": [
      "  o\n"
     ]
    },
    {
     "name": "stdout",
     "output_type": "stream",
     "text": [
      "That's a shame, maybe next time\n"
     ]
    }
   ],
   "source": [
    "public static void askQuestion3()\n",
    "{\n",
    "    String watchMovie;\n",
    "    final String y = \"Yes\";\n",
    "    final String n = \"No\";\n",
    "    \n",
    "    watchMovie=inputString(\"Would you like to come?(Enter Yes or No)\");\n",
    "    \n",
    "    if (watchMovie.equals(y))\n",
    "    {\n",
    "        \n",
    "        System.out.println(\"Great! I'll send you the details, I'm so excited! \");\n",
    "    }\n",
    "    \n",
    "    else if (watchMovie.equals(n))\n",
    "    {\n",
    "        System.out.println(\"That's a shame, maybe next time?\");\n",
    "    }\n",
    "    \n",
    "    else \n",
    "    {\n",
    "        System.out.println(\"That's a shame, maybe next time\");\n",
    "    }\n",
    "    return;\n",
    "}\n",
    "\n"
   ]
  },
  {
   "cell_type": "markdown",
   "metadata": {},
   "source": [
    "#### Testing"
   ]
  },
  {
   "cell_type": "code",
   "execution_count": null,
   "metadata": {},
   "outputs": [],
   "source": []
  },
  {
   "cell_type": "markdown",
   "metadata": {},
   "source": [
    "### askQuestion4\n",
    "\n",
    "#### What it does\n",
    "- This method asks the user to enter either Popcorn, Nachos or Pretels for the question. .An if statement will run a test, if the user inputs yes, the if statement will be run and the statement will be printed. If the user inputs no, the else statement will be run and printed.\n",
    "\n",
    "#### Implementation (how it works)\n",
    "- Two final variables are declared at the start of the program.They are used to compare the user's input with the input that is expected. The command System.out.println prints the statement based on whether the if or else statement is run."
   ]
  },
  {
   "cell_type": "code",
   "execution_count": 3,
   "metadata": {},
   "outputs": [],
   "source": [
    "public static void askQuestion4()\n",
    "{\n",
    "    String movieFood;\n",
    "    final String p = \"Popcorn\";\n",
    "    final String n = \"Nachos\";\n",
    "    final String pr = \"Pretzels\";\n",
    "    \n",
    "    System.out.println(\"What is your favourite food to eat at the cinema?\");\n",
    "    movieFood = inputString(\"Select from Popcorn, Nachos or Pretzels\");\n",
    "    \n",
    "    if (movieFood.equals(p))\n",
    "    {\n",
    "        System.out.println(\"Sounds delicious!I love sweet and salted popcorn\");\n",
    "    }\n",
    "    \n",
    "    else if (movieFood.equals(n))\n",
    "    {\n",
    "        System.out.println(\"Interesting choice!Those are great with Jalapenos\");\n",
    "    }\n",
    "    \n",
    "    else if (movieFood.equals(pr))\n",
    "    {\n",
    "        System.out.println(\"Oh, they are a bit too salty for me!\");\n",
    "    }\n",
    "        \n",
    "        return;\n",
    "   \n",
    "}"
   ]
  },
  {
   "cell_type": "markdown",
   "metadata": {},
   "source": [
    "#### Testing"
   ]
  },
  {
   "cell_type": "code",
   "execution_count": null,
   "metadata": {},
   "outputs": [],
   "source": [
    "askQuestion4();"
   ]
  },
  {
   "cell_type": "markdown",
   "metadata": {},
   "source": [
    "### chatbotHuda\n",
    "\n",
    "#### What it does\n",
    "- This method calls the two previous methods \n",
    "#### Implementation (how it works)\n",
    "- This is done by putting them into one method call, which is called chatbotHuda.First skQuestion3 is called, then askQuestion4."
   ]
  },
  {
   "cell_type": "code",
   "execution_count": 6,
   "metadata": {},
   "outputs": [],
   "source": [
    "public static void chatbothuda()\n",
    "{\n",
    "    askQuestion3();\n",
    "    askQuestion4();\n",
    "\n",
    "    return;\n",
    "    \n",
    "}"
   ]
  },
  {
   "cell_type": "markdown",
   "metadata": {},
   "source": [
    "### Running the program\n",
    "Run the following call to simulate running the complete program."
   ]
  },
  {
   "cell_type": "code",
   "execution_count": 7,
   "metadata": {},
   "outputs": [
    {
     "name": "stdout",
     "output_type": "stream",
     "text": [
      "Would you like to come?(Enter Yes or No)\n"
     ]
    },
    {
     "name": "stdin",
     "output_type": "stream",
     "text": [
      " hi\n"
     ]
    },
    {
     "name": "stdout",
     "output_type": "stream",
     "text": [
      "That's a shame, maybe next time\n",
      "What is your favourite food to eat at the cinema?\n",
      "Select from Popcorn, Nachos or Pretzels\n"
     ]
    },
    {
     "name": "stdin",
     "output_type": "stream",
     "text": [
      " y\n"
     ]
    }
   ],
   "source": [
    "chatbothuda();"
   ]
  },
  {
   "cell_type": "markdown",
   "metadata": {},
   "source": [
    "## The complete program\n",
    "This version will only compile here. To run it copy it into a file called initials.java on your local computer and compile and run it there."
   ]
  },
  {
   "cell_type": "code",
   "execution_count": null,
   "metadata": {},
   "outputs": [],
   "source": [
    "// Huda Farooqui\n",
    "// 14/12/2021\n",
    "// VERSION 1 \n",
    "// Write a chat bot procedural program that can have realistic conversations with people about a specific topic ( for example, football, food etc)\n",
    "\n",
    "import java.util.Scanner; // Needed to make Scanner available\n",
    "\n",
    "class chatbothuda // change the name to something appropriate\n",
    "{\n",
    "    public static void main (String [] a)\n",
    "    {\n",
    "        chatbotHuda(); //Change this to a call to the method doing the work\n",
    "        System.exit(0);\n",
    "    }\n",
    "    \n",
    "    public static String inputString (String message)\n",
    "{\n",
    "       String answer;\n",
    "       Scanner scanner = new Scanner(System.in); //scanner to input message\n",
    "\n",
    "       System.out.println(message);\n",
    "       answer = scanner.nextLine();\n",
    "   \n",
    "       return answer;\n",
    "}\n",
    "    \n",
    "    public static void askQuestion3()\n",
    "{\n",
    "    String watchMovie;\n",
    "    final String y = \"Yes\";\n",
    "    final String n = \"No\";\n",
    "    \n",
    "    watchMovie=inputString(\"Would you like to come?(Enter Yes or No)\");\n",
    "    \n",
    "    if (watchMovie.equals(y))\n",
    "    {\n",
    "        \n",
    "        System.out.println(\"Great! I'll send you the details, I'm so excited! \");\n",
    "    }\n",
    "    \n",
    "    else if (watchMovie.equals(n))\n",
    "    {\n",
    "        System.out.println(\"That's a shame, maybe next time?\");\n",
    "    }\n",
    "    \n",
    "    else \n",
    "    {\n",
    "        System.out.println(\"That's a shame, maybe next time\");\n",
    "    }\n",
    "    return;\n",
    "}\n",
    "    public static void askQuestion4()\n",
    "{\n",
    "    String movieFood;\n",
    "    final String p = \"Popcorn\";\n",
    "    final String n = \"Nachos\";\n",
    "    final String pr = \"Pretzels\";\n",
    "    \n",
    "    System.out.println(\"What is your favourite food to eat at the cinema?\");\n",
    "    movieFood = inputString(\"Select from Popcorn, Nachos or Pretzels\");\n",
    "    \n",
    "    if (movieFood.equals(p))\n",
    "    {\n",
    "        System.out.println(\"Sounds delicious!I love sweet and salted popcorn\");\n",
    "    }\n",
    "    \n",
    "    else if (movieFood.equals(n))\n",
    "    {\n",
    "        System.out.println(\"Interesting choice!Those are great with Jalapenos\");\n",
    "    }\n",
    "    \n",
    "    else if (movieFood.equals(pr))\n",
    "    {\n",
    "        System.out.println(\"Oh, they are a bit too salty for me!\");\n",
    "    }\n",
    "        \n",
    "        return;\n",
    "   \n",
    "}\n",
    " \n",
    "}\n"
   ]
  },
  {
   "cell_type": "markdown",
   "metadata": {},
   "source": [
    "**END OF LITERATE DOCUMENT**"
   ]
  }
 ],
 "metadata": {
  "kernelspec": {
   "display_name": "Java",
   "language": "java",
   "name": "java"
  },
  "language_info": {
   "codemirror_mode": "java",
   "file_extension": ".jshell",
   "mimetype": "text/x-java-source",
   "name": "Java",
   "pygments_lexer": "java",
   "version": "11.0.8+10-LTS"
  }
 },
 "nbformat": 4,
 "nbformat_minor": 4
}
